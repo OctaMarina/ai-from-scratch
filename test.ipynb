{
 "cells": [
  {
   "cell_type": "code",
   "id": "initial_id",
   "metadata": {
    "collapsed": true,
    "ExecuteTime": {
     "end_time": "2025-09-09T14:33:25.669336Z",
     "start_time": "2025-09-09T14:33:25.655946Z"
    }
   },
   "source": [
    "import numpy as np\n",
    "\n",
    "X = np.array([[1,2],\n",
    "              [3,4],\n",
    "              [5,6]])   # (3,2)\n",
    "\n",
    "w = np.array([10,20])    # (2,)\n",
    "\n",
    "print(X @ w)             # [ 50 110 170]\n",
    "print((X @ w).shape)     # (2,)"
   ],
   "outputs": [
    {
     "ename": "TypeError",
     "evalue": "Field elements must be 2- or 3-tuples, got '10'",
     "output_type": "error",
     "traceback": [
      "\u001B[31m---------------------------------------------------------------------------\u001B[39m",
      "\u001B[31mTypeError\u001B[39m                                 Traceback (most recent call last)",
      "\u001B[36mCell\u001B[39m\u001B[36m \u001B[39m\u001B[32mIn[3]\u001B[39m\u001B[32m, line 7\u001B[39m\n\u001B[32m      1\u001B[39m \u001B[38;5;28;01mimport\u001B[39;00m\u001B[38;5;250m \u001B[39m\u001B[34;01mnumpy\u001B[39;00m\u001B[38;5;250m \u001B[39m\u001B[38;5;28;01mas\u001B[39;00m\u001B[38;5;250m \u001B[39m\u001B[34;01mnp\u001B[39;00m\n\u001B[32m      3\u001B[39m X = np.array([[\u001B[32m1\u001B[39m,\u001B[32m2\u001B[39m],\n\u001B[32m      4\u001B[39m               [\u001B[32m3\u001B[39m,\u001B[32m4\u001B[39m],\n\u001B[32m      5\u001B[39m               [\u001B[32m5\u001B[39m,\u001B[32m6\u001B[39m]])   \u001B[38;5;66;03m# (3,2)\u001B[39;00m\n\u001B[32m----> \u001B[39m\u001B[32m7\u001B[39m w = \u001B[43mnp\u001B[49m\u001B[43m.\u001B[49m\u001B[43marray\u001B[49m\u001B[43m(\u001B[49m\u001B[43m[\u001B[49m\u001B[32;43m10\u001B[39;49m\u001B[43m,\u001B[49m\u001B[32;43m20\u001B[39;49m\u001B[43m,\u001B[49m\u001B[32;43m30\u001B[39;49m\u001B[43m]\u001B[49m\u001B[43m,\u001B[49m\u001B[43m[\u001B[49m\u001B[32;43m10\u001B[39;49m\u001B[43m,\u001B[49m\u001B[32;43m20\u001B[39;49m\u001B[43m,\u001B[49m\u001B[32;43m30\u001B[39;49m\u001B[43m]\u001B[49m\u001B[43m)\u001B[49m    \u001B[38;5;66;03m# (2,)\u001B[39;00m\n\u001B[32m      9\u001B[39m \u001B[38;5;28mprint\u001B[39m(X @ w)             \u001B[38;5;66;03m# [ 50 110 170]\u001B[39;00m\n\u001B[32m     10\u001B[39m \u001B[38;5;28mprint\u001B[39m((X @ w).shape)     \u001B[38;5;66;03m# (2,)\u001B[39;00m\n",
      "\u001B[31mTypeError\u001B[39m: Field elements must be 2- or 3-tuples, got '10'"
     ]
    }
   ],
   "execution_count": 3
  }
 ],
 "metadata": {
  "kernelspec": {
   "display_name": "Python 3",
   "language": "python",
   "name": "python3"
  },
  "language_info": {
   "codemirror_mode": {
    "name": "ipython",
    "version": 2
   },
   "file_extension": ".py",
   "mimetype": "text/x-python",
   "name": "python",
   "nbconvert_exporter": "python",
   "pygments_lexer": "ipython2",
   "version": "2.7.6"
  }
 },
 "nbformat": 4,
 "nbformat_minor": 5
}
